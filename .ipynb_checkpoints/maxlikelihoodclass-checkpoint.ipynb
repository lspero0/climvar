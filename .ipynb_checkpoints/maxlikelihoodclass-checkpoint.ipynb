{
 "cells": [
  {
   "cell_type": "markdown",
   "metadata": {},
   "source": [
    "# Maximum Likelihood Classification"
   ]
  },
  {
   "cell_type": "markdown",
   "metadata": {},
   "source": [
    "## Setup"
   ]
  },
  {
   "cell_type": "markdown",
   "metadata": {},
   "source": [
    "Import arcpy modules, set workspace, and enable overwrite"
   ]
  },
  {
   "cell_type": "code",
   "execution_count": 14,
   "metadata": {},
   "outputs": [],
   "source": [
    "import arcpy #import arcpy\n",
    "from arcpy import env\n",
    "from arcpy.sa import *\n",
    "\n",
    "arcpy.env.workspace = 'D:/masters_project/maxclass_final/370' #edit to set workspace\n",
    "\n",
    "arcpy.env.overwriteOutput = True #enable overwriting saved files"
   ]
  },
  {
   "cell_type": "markdown",
   "metadata": {},
   "source": [
    "## Maximum Likelihood Classification"
   ]
  },
  {
   "cell_type": "markdown",
   "metadata": {},
   "source": [
    "Run a loop to call the names of the climatic variable rasters and add them to their appropriate lists"
   ]
  },
  {
   "cell_type": "code",
   "execution_count": 15,
   "metadata": {},
   "outputs": [],
   "source": [
    "# make empty list of inputs\n",
    "tseason =[] #temperature seasonality\n",
    "PETseason = [] #PET seasonality \n",
    "degdays = [] #degree days\n",
    "ai = [] #aridity index\n",
    "\n",
    "i = 0\n",
    "while i < 13: #for a total of 10 climate models\n",
    "    i = i+1 #add 1 to i \n",
    "    ts = 'norm_bio4_'+str(i)+'.tif' #edit to alter raster names\n",
    "    pt = 'norm_PETseason'+str(i)+'.tif'\n",
    "    dd = 'norm_degdays'+str(i)+'.tif' \n",
    "    a = 'norm_ai'+str(i)+'.tif'\n",
    "    tseason.append(ts) #add raster names to list\n",
    "    PETseason.append(pt)\n",
    "    degdays.append(dd)\n",
    "    ai.append(a)"
   ]
  },
  {
   "cell_type": "markdown",
   "metadata": {},
   "source": [
    "Run the maximum likelihood classification on the climatic variables for each model."
   ]
  },
  {
   "cell_type": "code",
   "execution_count": 16,
   "metadata": {},
   "outputs": [],
   "source": [
    "# loop classification, creation out outputs \n",
    "mlc = [] #empty list for gathering outputs\n",
    "sig = 'D:/masters_project/strat_model/isocluster2.gsg' #edit for signature pathway\n",
    "\n",
    "n=0\n",
    "for raster in tseason: #MLClassify with 4 bands and signature file\n",
    "    mlcOut = MLClassify([tseason[n], PETseason[n], degdays[n], ai[n]], sig)\n",
    "    n = n+1 #increase n\n",
    "    save = 'D:/masters_project/maxclass_final/370/mlc'+str(n)+'.tif'\n",
    "    name = 'mlc'+str(n)+'.tif'\n",
    "    mlcOut.save(save)\n",
    "    mlc.append(name) #add output mlc list"
   ]
  },
  {
   "cell_type": "markdown",
   "metadata": {},
   "source": [
    "## Classify Strata Into Ecoregions"
   ]
  },
  {
   "cell_type": "markdown",
   "metadata": {},
   "source": [
    "Convert the classified rasters into polygons. Attach ecoregions to the polygon attributes using the strata gridcode as the index. Convert the polygons back into rasters, now with the ecoregion as the cell value. "
   ]
  },
  {
   "cell_type": "code",
   "execution_count": null,
   "metadata": {},
   "outputs": [],
   "source": [
    "# assign strata to ecoregions for each model\n",
    "eco_rast = [ ] # empty list for outputs\n",
    "\n",
    "for model in mlc:\n",
    "    polyname = 'poly_'+model.replace('tif', 'shp') #name for output polygon\n",
    "    arcpy.conversion.RasterToPolygon(model, polyname, 'NO_SIMPLIFY', '#', 'MULTIPLE_OUTER_PART') #raster to polygon\n",
    "    join_input = polyname[:-4] #alter name for table input to join field\n",
    "    polyjoin_mean = arcpy.management.JoinField(join_input, 'gridcode', 'eco_relate.csv', 'gridcode', ['eco']) #join field ecoregions\n",
    "    save = 'out_'+model #name for saving raster output\n",
    "    arcpy.PolygonToRaster_conversion(polyname, 'eco', save, '#', '#', 'mlc1.tif') #polygon to raster\n",
    "    eco_rast.append(save) #save final output to join list\n",
    "\n",
    "print(eco_rast) # check output"
   ]
  },
  {
   "cell_type": "markdown",
   "metadata": {},
   "source": [
    "## Determine Mode of Cells"
   ]
  },
  {
   "cell_type": "markdown",
   "metadata": {},
   "source": [
    "Use cell statistics to find the mode of each cell from all the model outputs"
   ]
  },
  {
   "cell_type": "code",
   "execution_count": 20,
   "metadata": {},
   "outputs": [],
   "source": [
    "#run cell statistic on all mlc outputs\n",
    "out = CellStatistics([eco_rast[0], eco_rast[1], eco_rast[2], eco_rast[3], eco_rast[4], \n",
    "                      eco_rast[5], eco_rast[6], eco_rast[7], eco_rast[8], eco_rast[9], \n",
    "                      eco_rast[10], eco_rast[11], eco_rast[12]], \"MAJORITY\")\n",
    "\n",
    "#save output\n",
    "out.save('D:/masters_project/maxclass_final/370/ssp370_maxclass_mode.tif') #edit for maximum likelihood classification output name/path"
   ]
  },
  {
   "cell_type": "markdown",
   "metadata": {},
   "source": [
    "## Generate Average Output Raster"
   ]
  },
  {
   "cell_type": "markdown",
   "metadata": {},
   "source": [
    "Repeat the same steps as above, but this time get the average of the climatic variables first"
   ]
  },
  {
   "cell_type": "code",
   "execution_count": 21,
   "metadata": {},
   "outputs": [],
   "source": [
    "#setup\n",
    "import arcpy #import arcpy\n",
    "from arcpy import env\n",
    "from arcpy.sa import *\n",
    "\n",
    "arcpy.env.workspace = 'D:/masters_project/maxclass_final/370' #edit to set workspace\n",
    "\n",
    "arcpy.env.overwriteOutput = True #enable overwriting saved files"
   ]
  },
  {
   "cell_type": "markdown",
   "metadata": {},
   "source": [
    "Call the normalized rasters for each model"
   ]
  },
  {
   "cell_type": "code",
   "execution_count": 22,
   "metadata": {},
   "outputs": [],
   "source": [
    "#call normalized raster names\n",
    "tseason =[] #temperature seasonality\n",
    "PETseason = [] #PET seasonality \n",
    "degdays = [] #degree days\n",
    "ai = [] #aridity index\n",
    "\n",
    "i = 0\n",
    "while i < 10: #for a total of 10 climate models\n",
    "    i = i+1 #add 1 to i \n",
    "    ts = 'norm_bio4_'+str(i)+'.tif' #edit to alter raster names\n",
    "    pt = 'norm_PETseason'+str(i)+'.tif'\n",
    "    dd = 'norm_degdays'+str(i)+'.tif' \n",
    "    a = 'norm_ai'+str(i)+'.tif'\n",
    "    tseason.append(ts) #add raster names to list\n",
    "    PETseason.append(pt)\n",
    "    degdays.append(dd)\n",
    "    ai.append(a)"
   ]
  },
  {
   "cell_type": "markdown",
   "metadata": {},
   "source": [
    "Calculate the mean for each climatic variable"
   ]
  },
  {
   "cell_type": "code",
   "execution_count": 23,
   "metadata": {},
   "outputs": [],
   "source": [
    "# average climatic variables\n",
    "mean_climvar = [] #empty list to gather averaged climatic variables\n",
    "\n",
    "#tseason\n",
    "mean_tseason = RasterCalculator([tseason[0], tseason[1], tseason[2], tseason[3], tseason[4],\n",
    "                                 tseason[5], tseason[6], tseason[7], tseason[8], tseason[9]],\n",
    "                                ['a', 'b', 'c', 'd', 'e', 'f', 'g', 'h', 'i', 'j'], \n",
    "                                '(a + b + c + d + e + f + g + h + i + j)/10')\n",
    "mean_climvar.append(mean_tseason)\n",
    "\n",
    "#PETseason\n",
    "mean_PETseason = RasterCalculator([PETseason[0], PETseason[1], PETseason[2], PETseason[3], PETseason[4], \n",
    "                                   PETseason[5], PETseason[6], PETseason[7], PETseason[8], PETseason[9]], \n",
    "                                  ['a', 'b', 'c', 'd', 'e', 'f', 'g', 'h', 'i', 'j'], \n",
    "                                  '(a + b + c + d + e + f + g + h + i + j)/10')\n",
    "mean_climvar.append(mean_PETseason)\n",
    "\n",
    "#degdays\n",
    "mean_degdays = RasterCalculator([degdays[0], degdays[1], degdays[2], degdays[3], degdays[4],\n",
    "                                 degdays[5], degdays[6], degdays[7], degdays[8], degdays[9]],\n",
    "                                ['a', 'b', 'c', 'd', 'e', 'f', 'g', 'h', 'i', 'j'], \n",
    "                                '(a + b + c + d + e + f + g + h + i + j)/10')\n",
    "mean_climvar.append(mean_degdays)\n",
    "\n",
    "#ai\n",
    "mean_ai = RasterCalculator([ai[0], ai[1], ai[2], ai[3], ai[4], \n",
    "                            ai[5], ai[6], ai[7], ai[8], ai[9]], \n",
    "                           ['a', 'b', 'c', 'd', 'e', 'f', 'g', 'h', 'i', 'j'], \n",
    "                           '(a + b + c + d + e + f + g + h + i + j)/10')\n",
    "mean_climvar.append(mean_ai)"
   ]
  },
  {
   "cell_type": "markdown",
   "metadata": {},
   "source": [
    "Run the maximum likelihood classification on the four climatic variables"
   ]
  },
  {
   "cell_type": "code",
   "execution_count": 24,
   "metadata": {},
   "outputs": [],
   "source": [
    "# run maximum likelihood classification\n",
    "sig = 'D:/masters_project/strat_model/isocluster2.gsg' #set signature path\n",
    "\n",
    "mlc_mean = MLClassify([mean_climvar[0], mean_climvar[1], mean_climvar[2], mean_climvar[3]], sig)\n",
    "save = 'D:/masters_project/maxclass_final/370/mlc_mean.tif'\n",
    "mlc_mean.save(save)"
   ]
  },
  {
   "cell_type": "markdown",
   "metadata": {},
   "source": [
    "Convert the maxclass output to a polygon, assign ecoregions based on strata code, and convert back into a raster"
   ]
  },
  {
   "cell_type": "code",
   "execution_count": 25,
   "metadata": {},
   "outputs": [
    {
     "data": {
      "text/html": [
       "<div class='gpresult'><h2>Messages</h2><div id='messages' data-messages='[\"Start Time: Monday, April 4, 2022 8:28:20 PM\",\"Succeeded at Monday, April 4, 2022 8:28:21 PM (Elapsed Time: 0.53 seconds)\"]' data-show='true'><div id = 'default' /></div></div>"
      ],
      "text/plain": [
       "<Result 'D:/masters_project/maxclass_final/370\\\\ssp370_maxclass_mean.tif'>"
      ]
     },
     "execution_count": 25,
     "metadata": {},
     "output_type": "execute_result"
    }
   ],
   "source": [
    "# convert to polygon\n",
    "arcpy.conversion.RasterToPolygon('mlc_mean.tif', 'poly_mean.shp', 'NO_SIMPLIFY', '#', 'MULTIPLE_OUTER_PART')\n",
    "\n",
    "# join field\n",
    "polyjoin_mean = arcpy.management.JoinField('poly_mean', 'gridcode', 'eco_relate.csv', 'gridcode', ['eco'])\n",
    "\n",
    "# convert back to raster\n",
    "save = 'ssp370_maxclass_mean.tif'\n",
    "arcpy.PolygonToRaster_conversion('poly_mean.shp', 'eco', save, '#', '#', 'mlc_mean.tif')"
   ]
  },
  {
   "cell_type": "markdown",
   "metadata": {},
   "source": [
    "## Fill in Mode Raster With Mean Raster"
   ]
  },
  {
   "cell_type": "markdown",
   "metadata": {},
   "source": [
    "Using a conditional statement, any holes in the mode raster resulting from ties in ecoregion classification will be filled with cell values from the mean raster"
   ]
  },
  {
   "cell_type": "code",
   "execution_count": 26,
   "metadata": {},
   "outputs": [],
   "source": [
    "# conditional statement - if the mode raster's cell value is null, the cell is equal to the mean raster's cell value\n",
    "mean = 'ssp370_maxclass_mean.tif'\n",
    "mode = 'ssp370_maxclass_mode.tif'\n",
    "\n",
    "fill = Con(IsNull(mode), mean, mode)\n",
    "fill.save('D:/masters_project/maxclass_final/final_rasters/ssp370_class.tif')"
   ]
  }
 ],
 "metadata": {
  "kernelspec": {
   "display_name": "ArcGISPro",
   "language": "Python",
   "name": "python3"
  },
  "language_info": {
   "file_extension": ".py",
   "name": "python",
   "version": "3"
  }
 },
 "nbformat": 4,
 "nbformat_minor": 2
}
