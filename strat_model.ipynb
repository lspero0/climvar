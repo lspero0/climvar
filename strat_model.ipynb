{
 "cells": [
  {
   "cell_type": "markdown",
   "metadata": {},
   "source": [
    "# Stratification Model"
   ]
  },
  {
   "cell_type": "markdown",
   "metadata": {},
   "source": [
    "## Setup"
   ]
  },
  {
   "cell_type": "markdown",
   "metadata": {},
   "source": [
    "Import arcpy modules, set the workspace, enable file overwrite"
   ]
  },
  {
   "cell_type": "code",
   "execution_count": 1,
   "metadata": {},
   "outputs": [],
   "source": [
    "import arcpy #import arcpy tools\n",
    "from arcpy.sa import * #import spatial analysis tools\n",
    "\n",
    "arcpy.env.workspace = 'D:/masters_project/strat_model/data/temp_output' #edit to set workspace\n",
    "\n",
    "arcpy.env.overwriteOutput = True #enable overwriting files"
   ]
  },
  {
   "cell_type": "markdown",
   "metadata": {},
   "source": [
    "## Calculate Climatic Variables"
   ]
  },
  {
   "cell_type": "markdown",
   "metadata": {},
   "source": [
    "Call the clipped WoldClim2 climate data layers"
   ]
  },
  {
   "cell_type": "code",
   "execution_count": 185,
   "metadata": {},
   "outputs": [],
   "source": [
    "#call clipped climate layers\n",
    "\n",
    "srad = [] #empty list for solar radiation rasters\n",
    "meantemp = [] #empty list for mean temperature rasters\n",
    "mintemp = [] #empty list for minimum temperature rasters\n",
    "maxtemp = [] #empty list for maximum temperature rasters\n",
    "x = 1 #set x to number layers by month\n",
    "\n",
    "#while loop to add the name of each raster input to its respective list\n",
    "while x < 13:\n",
    "    srad_name = 'srad'+str(x)+'.tif' #edit to alter srad input names\n",
    "    meantemp_name = 'meantemp'+str(x)+'.tif' #edit to alter meantemp input names\n",
    "    mintemp_name = 'mintemp'+str(x)+'.tif' #edit to alter mintemp input names\n",
    "    maxtemp_name = 'maxtemp'+str(x)+'.tif' #edit to alter maxtemp input names\n",
    "    srad.append(srad_name) #add to srad\n",
    "    meantemp.append(meantemp_name) #add to meantemp\n",
    "    mintemp.append(mintemp_name) #add to mintemp\n",
    "    maxtemp.append(maxtemp_name) #add to maxtemp\n",
    "    x += 1 #increase x to keep count"
   ]
  },
  {
   "cell_type": "markdown",
   "metadata": {},
   "source": [
    "Calculate temperature difference for each month using min temperature and max temperature rasters"
   ]
  },
  {
   "cell_type": "code",
   "execution_count": 187,
   "metadata": {},
   "outputs": [],
   "source": [
    "#calculate temperature difference (TD)\n",
    "i = 0 #set i to track month in list\n",
    "TD = [] #empty list to collect temperature difference layers\n",
    "\n",
    "#loop to subtract maxtemp from mintemp for each month, and add the result to TD[]\n",
    "for month in maxtemp: \n",
    "    output = RasterCalculator([month, mintemp[i]], ['x', 'y'], 'x-y') #raster calculation step\n",
    "    i += 1 #increase i to track month\n",
    "    save = 'D:/masters_project/strat_model/data/temp_output/TD'+str(i)+'.tif' #edit to alter path/output name\n",
    "    save2 = 'TD'+str(i)+'.tif' #edit to alter output name\n",
    "    output.save(save) #save output\n",
    "    TD.append(save2) #add output name to list"
   ]
  },
  {
   "cell_type": "markdown",
   "metadata": {},
   "source": [
    "Calculate potential evapotranspiration (PET) for each month using solar radiation, mean temperature, and temperature difference rasters"
   ]
  },
  {
   "cell_type": "code",
   "execution_count": 188,
   "metadata": {},
   "outputs": [],
   "source": [
    "arcpy.env.workspace = 'D:/masters_project/projected_results/data/ssp585/temp_output'\n",
    "\n",
    "#calculate Potential Evapotranspiration (PET)\n",
    "i = 0 #set i to track month in list\n",
    "PET = [] #empty list to collect PET layers\n",
    "\n",
    "#loop to calculate PET for each month, and add the result to PET[]\n",
    "for month in srad:\n",
    "    output = RasterCalculator([month, meantemp[i], TD[i]], ['x', 'y', 'z'],\n",
    "                              '0.0023*x*(y+17.8)*(z**0.5)') #raster calculation step\n",
    "    i += 1 #increase i to track month\n",
    "    save = 'D:/masters_project/strat_model/data/temp_output/PET'+str(i)+'.tif' #edit to alter path/output name\n",
    "    save2 = 'PET'+str(i)+'.tif' #edit to alter otuput name\n",
    "    output.save(save) #save output\n",
    "    PET.append(save2) #add output name to list"
   ]
  },
  {
   "cell_type": "markdown",
   "metadata": {},
   "source": [
    "Calculate the mean of the 12 PET rasters"
   ]
  },
  {
   "cell_type": "code",
   "execution_count": 189,
   "metadata": {},
   "outputs": [],
   "source": [
    "#calculate PET average\n",
    "PETavg = RasterCalculator([PET[0], PET[1], PET[2], PET[3], PET[4], PET[5],\n",
    "                           PET[6], PET[7], PET[8], PET[9], PET[10], PET[11]], \n",
    "                          ['a', 'b', 'c', 'd', 'e', 'f', 'g', 'h', 'i', 'j', 'k', 'l'], \n",
    "                         '(a + b + c + d + e + f + g + h + i + j + k + l)/12') #raster calculation step\n",
    "PETavg.save('D:/masters_project/strat_model/data/temp_output/PETavg.tif') #edit to alter path/output name"
   ]
  },
  {
   "cell_type": "markdown",
   "metadata": {},
   "source": [
    "Calculate the standard deviation of monthly PET"
   ]
  },
  {
   "cell_type": "code",
   "execution_count": 190,
   "metadata": {},
   "outputs": [],
   "source": [
    "#calculate PET seasonality -> standard deviation\n",
    "i = 0 #set i to track month in list\n",
    "sqd = [] #empty list to collect the squared distance from the mean for each PET raster\n",
    "\n",
    "#loop to calculate the square root of the difference between mean PET and each month's PET and add the result to sqd[]\n",
    "for month in PET:\n",
    "    sqdist = RasterCalculator([PET[i], 'PETavg.tif'], ['x', 'y'], '(x-y)**2') #raster calculation\n",
    "    sqd.append(sqdist) #add outputs to sqd list\n",
    "\n",
    "#calculate standard deviation using sqd values\n",
    "PETsd = RasterCalculator([sqd[0], sqd[1], sqd[2], sqd[3], sqd[4], sqd[5],\n",
    "                          sqd[6], sqd[7], sqd[8], sqd[9], sqd[10], sqd[11]], \n",
    "                          ['a', 'b', 'c', 'd', 'e', 'f', 'g', 'h', 'i', 'j', 'k', 'l'], \n",
    "                         '(((a + b + c + d + e + f + g + h + i + j + k + l)/12)**0.5)*100') #raster calculation\n",
    "PETsd.save('D:/masters_project/projected_results/data/ssp585/climvar_proj/PETseason.tif') #edit to alter path/output name"
   ]
  },
  {
   "cell_type": "markdown",
   "metadata": {},
   "source": [
    "Calculate the aridity index with mean PET and annual mean precipitation"
   ]
  },
  {
   "cell_type": "code",
   "execution_count": 7,
   "metadata": {},
   "outputs": [],
   "source": [
    "#calculate aridity index\n",
    "AI = RasterCalculator(['meanprecip.tif', 'PETavg.tif'], ['a', 'b'], 'a/b') #raster calculation step\n",
    "AI.save('D:/masters_project/strat_model/data/climvar/ai.tif') #edit to alter path/output name"
   ]
  },
  {
   "cell_type": "markdown",
   "metadata": {},
   "source": [
    "Calculate degree days. For months where the mean temperature is above 0, multiply the mean temp by the number of days in the month. For months where the mean temperature is at or below 0, set the month's value to 0. Add up all the months to get degree days"
   ]
  },
  {
   "cell_type": "code",
   "execution_count": 191,
   "metadata": {},
   "outputs": [],
   "source": [
    "#calculate degrees days\n",
    "\n",
    "#convert values<0 to 0\n",
    "i = 0 #set i to track month in list\n",
    "mt = [] #empty list to collect monthly degree days data \n",
    "\n",
    "#loop to add the mean temperature of each month to mt[], if the mean temperature <0, add the month's value as 0\n",
    "for month in meantemp:\n",
    "    output = RasterCalculator([meantemp[i]], ['x'], 'Con( x<0 ,0 ,x )') #raster calculation step\n",
    "    i += 1 #increase i to track month\n",
    "    save = 'D:/masters_project/strat_model/data/temp_output/mt'+str(i)+'.tif' #edit to alter path/output name\n",
    "    save2 = 'mt'+str(i)+'.tif' #edit to alter output name\n",
    "    output.save(save) #save output\n",
    "    mt.append(save2) #add output name to list\n",
    "    \n",
    "#add monthly calculations together\n",
    "degdays = RasterCalculator([mt[0], mt[1], mt[2], mt[3], mt[4], mt[5], mt[6], mt[7], mt[8], mt[9], mt[10], mt[11]], \n",
    "                           ['jan', 'feb', 'mar', 'apr', 'may', 'jun', 'jul', 'aug', 'sep', 'otc', 'nov', 'dec'], \n",
    "                           '(jan*31)+(feb*28.25)+(mar*31)+(apr*30)+(may*31)+(jun*30)+(jul*31)+(aug*31)+(sep*30)+(otc*31)+(nov*30)+(dec*31)') #raster calculation step\n",
    "degdays.save('D:/masters_project/strat_model/data/climvar/degdays.tif') #edit to alter path/output name"
   ]
  },
  {
   "cell_type": "markdown",
   "metadata": {},
   "source": [
    "## Transform climatic variable data ranges to 0-100"
   ]
  },
  {
   "cell_type": "code",
   "execution_count": 10,
   "metadata": {},
   "outputs": [],
   "source": [
    "#setup\n",
    "import arcpy\n",
    "from arcpy import env\n",
    "from arcpy.sa import *\n",
    "\n",
    "arcpy.env.workspace = 'D:/masters_project/maxclass_final/370' #edit to set workspace\n",
    "\n",
    "arcpy.env.overwriteOutput = True"
   ]
  },
  {
   "cell_type": "markdown",
   "metadata": {},
   "source": [
    "Normalize the four climatic variables to a scale of 0-100. When normalizing projected climatic variables, define the raster from which the max and min are sourced from as the HISTORICAL climatic variable to scale it "
   ]
  },
  {
   "cell_type": "code",
   "execution_count": 13,
   "metadata": {},
   "outputs": [],
   "source": [
    "climvar = ['ai.tif', 'degdays.tif', 'PETseason.tif', 'tseason.tif'] #list the 4 climatic variables\n",
    "\n",
    "for var in climvar:\n",
    "    raster = arcpy.Raster(var) #set climatic variable as raster. When normalizing projected data, set this raster as the HISTORICAL climatic variable\n",
    "    rmax = raster.maximum #maximum of the climatic variable\n",
    "    rmin = raster.minimum #minimum of the climatic variable\n",
    "    if rmin > 0:\n",
    "        eq = '(x-'+str(rmin)+')*(100)/('+str(rmax)+'-'+str(rmin)+')' #raster calculation equation for variables without negative values\n",
    "    else:\n",
    "        eq = '(x+'+str(rmin).replace('-', '')+')*(100)/('+str(rmax)+'+'+str(rmin).replace('-', '')+')' #raster calculation equation for variables with negative values\n",
    "    tr = RasterCalculator([var], ['x'], eq) #raster calculation step\n",
    "    save = 'D:/masters_project/strat_model/data/climvar_transformed/'+str(var) #edit to alter path/output name\n",
    "    tr.save(save) #save output"
   ]
  },
  {
   "cell_type": "markdown",
   "metadata": {},
   "source": [
    "## ISODATA clustering"
   ]
  },
  {
   "cell_type": "markdown",
   "metadata": {},
   "source": [
    "The following chunks are for the initial historical ISODATA calculation - do not repeat for predicted climate scenarios"
   ]
  },
  {
   "cell_type": "code",
   "execution_count": null,
   "metadata": {},
   "outputs": [],
   "source": [
    "# setup\n",
    "import arcpy\n",
    "from arcpy import env\n",
    "from arcpy.sa import *\n",
    "\n",
    "arcpy.env.workspace = 'E:/masters_project/strat_model/data/climvar_transformed' #edit to set workspace\n",
    "\n",
    "arcpy.env.overwriteOutput = True"
   ]
  },
  {
   "cell_type": "markdown",
   "metadata": {},
   "source": [
    "Composite the climatic variables into a single raster"
   ]
  },
  {
   "cell_type": "code",
   "execution_count": null,
   "metadata": {},
   "outputs": [],
   "source": [
    "#composite climatic variables into multiple bands of a single raster\n",
    "\n",
    "arcpy.CompositeBands_management(['tseason_tr.tif','PETseason_tr.tif', 'degdays_tr.tif', 'ai_tr.tif'], \n",
    "                                'E:/masters_project/strat_model/data/climvar_tranformed/climvar_composite.tif')"
   ]
  },
  {
   "cell_type": "markdown",
   "metadata": {},
   "source": [
    "Run the ISODATA algorithm on the raster"
   ]
  },
  {
   "cell_type": "code",
   "execution_count": null,
   "metadata": {},
   "outputs": [],
   "source": [
    "# run isodata algorithm on composited raster\n",
    "\n",
    "IsoClusterUnsupervisedClassification('climvar_composite.tif', \n",
    "                                     'E:/masters_project/strat_model/data/iso_output/isosig.gsg', \n",
    "                                     125)"
   ]
  }
 ],
 "metadata": {
  "kernelspec": {
   "display_name": "ArcGISPro",
   "language": "Python",
   "name": "python3"
  },
  "language_info": {
   "file_extension": ".py",
   "name": "python",
   "version": "3"
  }
 },
 "nbformat": 4,
 "nbformat_minor": 2
}
